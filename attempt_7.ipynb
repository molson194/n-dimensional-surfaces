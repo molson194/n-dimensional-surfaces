{
 "cells": [
  {
   "attachments": {},
   "cell_type": "markdown",
   "metadata": {},
   "source": [
    "# Optimal Decision Tree\n",
    "\n",
    "## High Level Code Flow\n",
    "\n",
    "1. Gather training inputs (X1, X2, X3,...) and outputs (Y1, Y2, Y3,...)\n",
    "2. Scale the inputs and outpus\n",
    "3. Compute the correlation of the inputs\n",
    "4. Find the optimal splits for each individual input, assign error as score\n",
    "5. Combine inputs with low error and high correlations\n",
    "6. Find optimal splits for combined inputs, assign error as score\n",
    "7. For any combined splits that had lower errors than the individual inputs, combine inputs with low errors and high correlations\n",
    "8. Find optimal splits for combined inputs, assign a score\n",
    "9. Continue combining and assigning until there are no splits remaining\n",
    "10. Split tree on set of inputs with lowest error, assigning error to the child nodes\n",
    "11. Repeat steps 4-11 on the node with highest error until all nodes have error below a threshold\n",
    "\n",
    "## Find the optimal splits for a set of inputs\n",
    "\n",
    "1. For each input, start the split at p33 and p67 of data\n",
    "2. Compute the left, middle, right average\n",
    "3. Compute the left, middle, right error\n",
    "4. For each input and for each split, move the split to left and recompute steps 2-3\n",
    "5. For each input and for each split, move the split to right and recompute steps 2-3\n",
    "6. Continue gradient descent (steps 4-5) until splits with lowest error found\n",
    "\n",
    "## Class/Method Structure\n",
    "\n",
    "* class ModelBuilder(primitive[][] train_inputs, primitive[] train_outputs)\n",
    "  * Node root_node\n",
    "  * PriorityQueue(Node) child_nodes\n",
    "  * float terminal_error\n",
    "  * def BuildModel() : Node\n",
    "  * def FindNodeWithHighestError() : Nullable(Node)\n",
    "  * def SplitNode(Node node) : (Node, Node)\n",
    "* class Node(Node left_node, Node right_node, float error, ? data_splits)\n",
    "  * def Predict(primitive[] input): {primitive: float} # Breakdown\n",
    "* class ModelValidator(primitive[][] test_inputs, primitive[] test_outputs)\n",
    "  * def ValidateModel(Node root_node)\n"
   ]
  },
  {
   "cell_type": "code",
   "execution_count": 1,
   "metadata": {},
   "outputs": [
    {
     "name": "stdout",
     "output_type": "stream",
     "text": [
      "784\n",
      "60000\n"
     ]
    }
   ],
   "source": [
    "# 1\n",
    "import mnist\n",
    "x_train, y_train, x_test, y_test = mnist.load()\n",
    "num_columns = len(x_train[0])\n",
    "num_rows = len(x_train)\n",
    "print(num_columns)\n",
    "print(num_rows)"
   ]
  },
  {
   "cell_type": "code",
   "execution_count": 2,
   "metadata": {},
   "outputs": [],
   "source": [
    "# 3\n",
    "import numpy\n",
    "covariances = numpy.cov(x_train, rowvar=False)"
   ]
  },
  {
   "cell_type": "code",
   "execution_count": 3,
   "metadata": {},
   "outputs": [
    {
     "name": "stdout",
     "output_type": "stream",
     "text": [
      "here\n"
     ]
    }
   ],
   "source": [
    "# 4\n",
    "def findOptimalSplitForSingleInput():\n",
    "    print(\"here\")\n",
    "\n",
    "findOptimalSplitForSingleInput()"
   ]
  }
 ],
 "metadata": {
  "kernelspec": {
   "display_name": "venv",
   "language": "python",
   "name": "python3"
  },
  "language_info": {
   "codemirror_mode": {
    "name": "ipython",
    "version": 3
   },
   "file_extension": ".py",
   "mimetype": "text/x-python",
   "name": "python",
   "nbconvert_exporter": "python",
   "pygments_lexer": "ipython3",
   "version": "3.9.11"
  },
  "orig_nbformat": 4,
  "vscode": {
   "interpreter": {
    "hash": "02d2d914c47b884bc917713ed54cbe2871e40d46ff1203712fb1a88f43c34904"
   }
  }
 },
 "nbformat": 4,
 "nbformat_minor": 2
}
